{
 "cells": [
  {
   "cell_type": "markdown",
   "id": "b9732f89",
   "metadata": {},
   "source": [
    "###### Some of the pythonic coding practices used \n",
    "###### in this program\n",
    "1. Maintain a function doc string that explains the function \n",
    "2. Add comments when necessary to maintain readability of code\n",
    "3. Use intuitive naming conventions that explain the use of the variables\n",
    "4. Maintain the length of each line < 76 characters \n",
    "5. Use line continuation characters to maintain line length\n",
    "6. Maintain one statement of code per line\n",
    "7. Use of list comprehensions"
   ]
  },
  {
   "cell_type": "code",
   "execution_count": 1,
   "id": "7078b4f6",
   "metadata": {},
   "outputs": [],
   "source": [
    "import pandas as pd\n",
    "import numpy as np"
   ]
  },
  {
   "cell_type": "code",
   "execution_count": 24,
   "id": "06cfeda2",
   "metadata": {},
   "outputs": [],
   "source": [
    "def count_occurence(search_for, search_in):\n",
    "    \"\"\"This Function takes a string - 'search_for'\n",
    "       and an iterable, in this instance a column of\n",
    "       product description\n",
    "       Returns the number of products that have\n",
    "       the 'search_for' sub string in their\n",
    "       description\"\"\"\n",
    "    occurences_num = len([x for x in search_in if search_for in x])\n",
    "    return occurences_num"
   ]
  },
  {
   "cell_type": "code",
   "execution_count": 3,
   "id": "b2ec30be",
   "metadata": {},
   "outputs": [
    {
     "data": {
      "text/plain": [
       "(3945, 2)"
      ]
     },
     "execution_count": 3,
     "metadata": {},
     "output_type": "execute_result"
    }
   ],
   "source": [
    "# Read the CSV into a dataframe\n",
    "df_product = pd.read_csv(\"products.csv\")\n",
    "df_product.shape"
   ]
  },
  {
   "cell_type": "code",
   "execution_count": 4,
   "id": "9f8d88ce",
   "metadata": {},
   "outputs": [
    {
     "data": {
      "text/html": [
       "<div>\n",
       "<style scoped>\n",
       "    .dataframe tbody tr th:only-of-type {\n",
       "        vertical-align: middle;\n",
       "    }\n",
       "\n",
       "    .dataframe tbody tr th {\n",
       "        vertical-align: top;\n",
       "    }\n",
       "\n",
       "    .dataframe thead th {\n",
       "        text-align: right;\n",
       "    }\n",
       "</style>\n",
       "<table border=\"1\" class=\"dataframe\">\n",
       "  <thead>\n",
       "    <tr style=\"text-align: right;\">\n",
       "      <th></th>\n",
       "      <th>StockCode</th>\n",
       "      <th>Description</th>\n",
       "    </tr>\n",
       "  </thead>\n",
       "  <tbody>\n",
       "    <tr>\n",
       "      <th>0</th>\n",
       "      <td>10002</td>\n",
       "      <td>INFLATABLE POLITICAL GLOBE</td>\n",
       "    </tr>\n",
       "    <tr>\n",
       "      <th>1</th>\n",
       "      <td>10080</td>\n",
       "      <td>GROOVY CACTUS INFLATABLE</td>\n",
       "    </tr>\n",
       "    <tr>\n",
       "      <th>2</th>\n",
       "      <td>10120</td>\n",
       "      <td>DOGGY RUBBER</td>\n",
       "    </tr>\n",
       "    <tr>\n",
       "      <th>3</th>\n",
       "      <td>10123C</td>\n",
       "      <td>HEARTS WRAPPING TAPE</td>\n",
       "    </tr>\n",
       "    <tr>\n",
       "      <th>4</th>\n",
       "      <td>10124A</td>\n",
       "      <td>SPOTS ON RED BOOKCOVER TAPE</td>\n",
       "    </tr>\n",
       "  </tbody>\n",
       "</table>\n",
       "</div>"
      ],
      "text/plain": [
       "  StockCode                  Description\n",
       "0     10002   INFLATABLE POLITICAL GLOBE\n",
       "1     10080     GROOVY CACTUS INFLATABLE\n",
       "2     10120                 DOGGY RUBBER\n",
       "3    10123C         HEARTS WRAPPING TAPE\n",
       "4    10124A  SPOTS ON RED BOOKCOVER TAPE"
      ]
     },
     "execution_count": 4,
     "metadata": {},
     "output_type": "execute_result"
    }
   ],
   "source": [
    "df_product.head()"
   ]
  },
  {
   "cell_type": "code",
   "execution_count": 27,
   "id": "8c48b444",
   "metadata": {},
   "outputs": [],
   "source": [
    "# By Converting Description to all UPPER\n",
    "# We ensure that we don't miss mixed case\n",
    "# instances of the search sub string\n",
    "# for example CandlE or candle or CANDLe\n",
    "\n",
    "df_product['Description'] = df_product['Description'].str.upper()"
   ]
  },
  {
   "cell_type": "code",
   "execution_count": 43,
   "id": "027724e8",
   "metadata": {},
   "outputs": [],
   "source": [
    "products_fire = count_occurence('FIRE',df_product['Description'])\n",
    "# We check for plural and single\n",
    "# instances of the search sub string\n",
    "products_candle = count_occurence('CANDLE',df_product['Description']) +\\\n",
    "                  count_occurence('CANDLES',df_product['Description'])\n",
    "products_matches = count_occurence('MATCHES',df_product['Description']) +\\\n",
    "                   count_occurence('MATCHES',df_product['Description'])"
   ]
  },
  {
   "cell_type": "code",
   "execution_count": 45,
   "id": "238acb91",
   "metadata": {},
   "outputs": [
    {
     "name": "stdout",
     "output_type": "stream",
     "text": [
      "How many products contain the word Fire in their description?\n",
      "9\n",
      "How many products contain the word candle in their description?\n",
      "232\n",
      "How many products contain the word matches in their description?\n",
      "12\n"
     ]
    }
   ],
   "source": [
    "print(\"How many products contain the word Fire in their description?\")\n",
    "print(products_fire)\n",
    "print(\"How many products contain the word candle in their description?\")\n",
    "print(products_candle)\n",
    "print(\"How many products contain the word matches in their description?\")\n",
    "print(products_matches)"
   ]
  }
 ],
 "metadata": {
  "kernelspec": {
   "display_name": "Python 3 (ipykernel)",
   "language": "python",
   "name": "python3"
  },
  "language_info": {
   "codemirror_mode": {
    "name": "ipython",
    "version": 3
   },
   "file_extension": ".py",
   "mimetype": "text/x-python",
   "name": "python",
   "nbconvert_exporter": "python",
   "pygments_lexer": "ipython3",
   "version": "3.9.12"
  }
 },
 "nbformat": 4,
 "nbformat_minor": 5
}
